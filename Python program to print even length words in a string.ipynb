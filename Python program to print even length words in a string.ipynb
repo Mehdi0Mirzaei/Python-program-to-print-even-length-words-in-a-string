{
 "cells": [
  {
   "cell_type": "code",
   "execution_count": 4,
   "id": "55165b7a",
   "metadata": {},
   "outputs": [
    {
     "name": "stdout",
     "output_type": "stream",
     "text": [
      "want\n",
      "banana\n"
     ]
    }
   ],
   "source": [
    "test_str='Hello how are you,I want banana'\n",
    "str1=''\n",
    "s=test_str.split(' ')\n",
    "for i in s:\n",
    "    if len(i) % 2 ==0:\n",
    "        print(i)  "
   ]
  },
  {
   "cell_type": "code",
   "execution_count": 5,
   "id": "7d61a553",
   "metadata": {},
   "outputs": [
    {
     "name": "stdout",
     "output_type": "stream",
     "text": [
      "want\n",
      "banana\n"
     ]
    }
   ],
   "source": [
    "def printWords(s):\n",
    "     \n",
    "    # split the string\n",
    "    s = s.split(' ')\n",
    "     \n",
    "    # iterate in words of string\n",
    "    for word in s:\n",
    "         \n",
    "        # if length is even\n",
    "        if len(word)%2==0:\n",
    "            print(word)\n",
    "# Driver Code\n",
    "s = 'Hello how are you,I want banana'\n",
    "printWords(s)"
   ]
  },
  {
   "cell_type": "code",
   "execution_count": 6,
   "id": "7e32996e",
   "metadata": {},
   "outputs": [
    {
     "name": "stdout",
     "output_type": "stream",
     "text": [
      "['want', 'banana']\n"
     ]
    }
   ],
   "source": [
    "#input string\n",
    "n='Hello how are you,I want banana'\n",
    "#splitting the words in a given string\n",
    "s=n.split(\" \")\n",
    "l=list(filter(lambda x: (len(x)%2==0),s))\n",
    "print(l)"
   ]
  },
  {
   "cell_type": "code",
   "execution_count": 7,
   "id": "9e306c8b",
   "metadata": {},
   "outputs": [
    {
     "name": "stdout",
     "output_type": "stream",
     "text": [
      "['want', 'banana']\n"
     ]
    }
   ],
   "source": [
    "n='Hello how are you,I want banana'\n",
    "s=n.split(\" \")\n",
    "print([x for x in s if len(x)%2==0])"
   ]
  },
  {
   "cell_type": "code",
   "execution_count": 8,
   "id": "4098a8cf",
   "metadata": {},
   "outputs": [
    {
     "name": "stdout",
     "output_type": "stream",
     "text": [
      "['want', 'banana']\n"
     ]
    }
   ],
   "source": [
    "n='Hello how are you,I want banana'\n",
    "s=n.split(\" \")\n",
    "print([x for i,x in enumerate(s) if len(x)%2==0])"
   ]
  },
  {
   "cell_type": "code",
   "execution_count": 16,
   "id": "c733ebf0",
   "metadata": {},
   "outputs": [
    {
     "name": "stdout",
     "output_type": "stream",
     "text": [
      "['want', 'banana']\n"
     ]
    }
   ],
   "source": [
    "s='Hello how are you,I want banana'\n",
    " \n",
    "# Split the string into a list of words\n",
    "words = s.split(\" \")\n",
    " \n",
    "# Use the filter function and lambda function to find even length words\n",
    "even_length_words = list(filter(lambda x: len(x) % 2 == 0, words))\n",
    " \n",
    "# Print the list of even length words\n",
    "print(even_length_words)"
   ]
  },
  {
   "cell_type": "code",
   "execution_count": 17,
   "id": "00d3a69f",
   "metadata": {},
   "outputs": [
    {
     "name": "stdout",
     "output_type": "stream",
     "text": [
      "want banana "
     ]
    }
   ],
   "source": [
    "# Initialize the input string\n",
    "s = 'Hello how are you,I want banana'\n",
    " \n",
    "# Initialize an empty string variable to store the current word being parsed\n",
    "word = ''\n",
    " \n",
    "# Iterate over each character in the input string\n",
    "for i in s:\n",
    "    # If the character is a space, it means the current word has ended\n",
    "    if i == ' ':\n",
    "        # Check if the length of the current word is even and greater than 0\n",
    "        if len(word)%2 == 0 and len(word)!=0:\n",
    "            # If yes, print the current word\n",
    "            print(word,end=' ')\n",
    "        # Reset the current word variable for the next word\n",
    "        word = ''\n",
    "    # If the character is not a space, it means the current word is being formed\n",
    "    else:\n",
    "        # Append the character to the current word variable\n",
    "        word += i\n",
    " # After the loop has ended, check if the length of the last word is even and greater than 0\n",
    "if len(word)%2 == 0 and len(word)!=0:\n",
    "    # If yes, print the last word\n",
    "    print(word,end=' ')"
   ]
  },
  {
   "cell_type": "code",
   "execution_count": 18,
   "id": "a204bf4e",
   "metadata": {},
   "outputs": [
    {
     "name": "stdout",
     "output_type": "stream",
     "text": [
      "want\n",
      "banana\n"
     ]
    }
   ],
   "source": [
    "s = 'Hello how are you,I want banana'\n",
    " \n",
    "word_start = 0\n",
    "even_words = []\n",
    " \n",
    "for i in range(len(s)):\n",
    "    if s[i] == \" \":\n",
    "        word_end = i\n",
    "        word_length = word_end - word_start\n",
    "        if word_length % 2 == 0:\n",
    "            even_words.append(s[word_start:word_end])\n",
    "        word_start = i + 1\n",
    "word_length = len(s) - word_start\n",
    "if word_length % 2 == 0:\n",
    "    even_words.append(s[word_start:])\n",
    "for w in even_words:\n",
    "    print(w)"
   ]
  },
  {
   "cell_type": "code",
   "execution_count": null,
   "id": "e239360c",
   "metadata": {},
   "outputs": [],
   "source": []
  }
 ],
 "metadata": {
  "kernelspec": {
   "display_name": "Python 3 (ipykernel)",
   "language": "python",
   "name": "python3"
  },
  "language_info": {
   "codemirror_mode": {
    "name": "ipython",
    "version": 3
   },
   "file_extension": ".py",
   "mimetype": "text/x-python",
   "name": "python",
   "nbconvert_exporter": "python",
   "pygments_lexer": "ipython3",
   "version": "3.9.13"
  }
 },
 "nbformat": 4,
 "nbformat_minor": 5
}
